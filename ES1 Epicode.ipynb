{
 "cells": [
  {
   "cell_type": "code",
   "execution_count": 1,
   "id": "0e155a4a-2a72-4442-930d-5b46cc53d44a",
   "metadata": {},
   "outputs": [
    {
     "name": "stdout",
     "output_type": "stream",
     "text": [
      "25\n"
     ]
    }
   ],
   "source": [
    "Studenti_1 = 25\n",
    "print(Studenti_1)"
   ]
  },
  {
   "cell_type": "code",
   "execution_count": 2,
   "id": "20c9be48-8792-4175-b7af-a0cf0537b21a",
   "metadata": {},
   "outputs": [],
   "source": [
    "Studenti_2 =  3\n",
    "Studenti_Tot = Studenti_1 + Studenti_2"
   ]
  },
  {
   "cell_type": "code",
   "execution_count": 3,
   "id": "2ebc3cac-1255-44c7-8bb5-740ce4ccfaf7",
   "metadata": {},
   "outputs": [
    {
     "name": "stdout",
     "output_type": "stream",
     "text": [
      "28\n"
     ]
    }
   ],
   "source": [
    "print(Studenti_Tot)"
   ]
  },
  {
   "cell_type": "code",
   "execution_count": 4,
   "id": "f959e74b-2538-4ac1-a869-e31d43774ff8",
   "metadata": {},
   "outputs": [],
   "source": [
    "ep = 'Epicode'"
   ]
  },
  {
   "cell_type": "code",
   "execution_count": 5,
   "id": "295c10bc-10bb-4522-9ed7-b9cbbdcf04ee",
   "metadata": {},
   "outputs": [
    {
     "name": "stdout",
     "output_type": "stream",
     "text": [
      "26\n"
     ]
    }
   ],
   "source": [
    "x = 10\n",
    "y=(x+3)*2\n",
    "print(y)"
   ]
  },
  {
   "cell_type": "code",
   "execution_count": 6,
   "id": "ac192549-f178-4d50-995e-9d354d4d0120",
   "metadata": {},
   "outputs": [
    {
     "name": "stdout",
     "output_type": "stream",
     "text": [
      "26\n"
     ]
    }
   ],
   "source": [
    "z=10\n",
    "z+=3\n",
    "z*=2\n",
    "print(z)"
   ]
  },
  {
   "cell_type": "code",
   "execution_count": 7,
   "id": "5fcd1415-f121-4d46-aed3-50d5cbf4840c",
   "metadata": {},
   "outputs": [],
   "source": [
    "str1 = \"Windows\" \n",
    "str2 = \"Excel\" \n",
    "str3 = \"Powerpoint\"  \n",
    "str4 = \"Word\""
   ]
  },
  {
   "cell_type": "code",
   "execution_count": 8,
   "id": "73556872-ab1a-43db-a25a-df8550a22feb",
   "metadata": {},
   "outputs": [
    {
     "name": "stdout",
     "output_type": "stream",
     "text": [
      "True\n"
     ]
    }
   ],
   "source": [
    "print(len(str1)>5 and len(str1)<8)"
   ]
  },
  {
   "cell_type": "code",
   "execution_count": 9,
   "id": "f4c3e001-0a0a-42b1-a39b-623c0163bb55",
   "metadata": {},
   "outputs": [
    {
     "name": "stdout",
     "output_type": "stream",
     "text": [
      "False\n"
     ]
    }
   ],
   "source": [
    "print(len(str2)>5 and len(str2)<8)"
   ]
  },
  {
   "cell_type": "code",
   "execution_count": 10,
   "id": "5eecf8b7-a694-4f70-b2bf-c3ad9edafb62",
   "metadata": {},
   "outputs": [
    {
     "name": "stdout",
     "output_type": "stream",
     "text": [
      "False\n"
     ]
    }
   ],
   "source": [
    "print(len(str3)>5 and len(str3)<8)"
   ]
  },
  {
   "cell_type": "code",
   "execution_count": 11,
   "id": "5fb7bb94-daea-4fc3-858a-16fb708f1a24",
   "metadata": {},
   "outputs": [
    {
     "name": "stdout",
     "output_type": "stream",
     "text": [
      "False\n"
     ]
    }
   ],
   "source": [
    "print(len(str4)>5 and len(str4)<8)"
   ]
  },
  {
   "cell_type": "code",
   "execution_count": 12,
   "id": "d9400fd5-b6ab-42de-b273-9b8b35477d73",
   "metadata": {},
   "outputs": [
    {
     "name": "stdout",
     "output_type": "stream",
     "text": [
      "31104000\n"
     ]
    }
   ],
   "source": [
    "(n_sec) = 60*60*24*30*12\n",
    "print(n_sec)\n"
   ]
  },
  {
   "cell_type": "code",
   "execution_count": 13,
   "id": "d1de9a09-ec5e-487f-be88-90f14256d7a7",
   "metadata": {},
   "outputs": [
    {
     "data": {
      "text/plain": [
       "'I AM STUDYING PYTHON'"
      ]
     },
     "execution_count": 13,
     "metadata": {},
     "output_type": "execute_result"
    }
   ],
   "source": [
    "my_string = \"I am studying Python\"\n",
    "my_string.upper()"
   ]
  },
  {
   "cell_type": "code",
   "execution_count": 14,
   "id": "8371bf5c-78f0-4aef-9ca2-50700896cd8d",
   "metadata": {},
   "outputs": [
    {
     "data": {
      "text/plain": [
       "'i am studying python'"
      ]
     },
     "execution_count": 14,
     "metadata": {},
     "output_type": "execute_result"
    }
   ],
   "source": [
    "my_string.lower()"
   ]
  },
  {
   "cell_type": "code",
   "execution_count": 15,
   "id": "5f237f2c-b6de-4507-8ce6-00d1ced55688",
   "metadata": {},
   "outputs": [
    {
     "data": {
      "text/plain": [
       "'I am studying a lot'"
      ]
     },
     "execution_count": 15,
     "metadata": {},
     "output_type": "execute_result"
    }
   ],
   "source": [
    "my_string.replace(\"Python\", \"a lot\")"
   ]
  },
  {
   "cell_type": "code",
   "execution_count": 16,
   "id": "29fb352d-404a-4d43-9523-db800a40173a",
   "metadata": {},
   "outputs": [
    {
     "data": {
      "text/plain": [
       "'I am studying Python'"
      ]
     },
     "execution_count": 16,
     "metadata": {},
     "output_type": "execute_result"
    }
   ],
   "source": [
    "my_string.strip()"
   ]
  },
  {
   "cell_type": "code",
   "execution_count": null,
   "id": "573066eb-e859-46a7-a37c-b585df015409",
   "metadata": {},
   "outputs": [],
   "source": [
    "#Rimane uguale perchè il comando strip toglie gli spazi prima e dopo la stringa stessa"
   ]
  },
  {
   "cell_type": "code",
   "execution_count": null,
   "id": "317e6c49-fe49-459b-9bbb-6c2c73e98236",
   "metadata": {},
   "outputs": [],
   "source": []
  }
 ],
 "metadata": {
  "kernelspec": {
   "display_name": "Python 3 (ipykernel)",
   "language": "python",
   "name": "python3"
  },
  "language_info": {
   "codemirror_mode": {
    "name": "ipython",
    "version": 3
   },
   "file_extension": ".py",
   "mimetype": "text/x-python",
   "name": "python",
   "nbconvert_exporter": "python",
   "pygments_lexer": "ipython3",
   "version": "3.11.7"
  }
 },
 "nbformat": 4,
 "nbformat_minor": 5
}
